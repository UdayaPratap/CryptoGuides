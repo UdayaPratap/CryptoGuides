{
 "cells": [
  {
   "cell_type": "markdown",
   "metadata": {},
   "source": [
    "# Update csv with latest data from yfinance"
   ]
  },
  {
   "cell_type": "code",
   "execution_count": 3,
   "metadata": {},
   "outputs": [],
   "source": [
    "import os\n",
    "import pandas as pd\n",
    "import yfinance as yf\n",
    "\n",
    "def update_data_and_append(ticker, csv_file_path, start_date, end_date):\n",
    "    if os.path.exists(csv_file_path):\n",
    "        existing_data = pd.read_csv(csv_file_path)\n",
    "        last_date = pd.to_datetime(existing_data['Date']).max()\n",
    "        end_date_timestamp = pd.to_datetime(end_date)  # Convert end_date to Timestamp\n",
    "        if last_date >= end_date_timestamp:\n",
    "            print(f\"Data for {ticker} is up to date.\")\n",
    "            return\n",
    "        \n",
    "        new_data = yf.download(ticker, start=last_date + pd.DateOffset(days=1), end=end_date)\n",
    "        \n",
    "        if not new_data.empty:\n",
    "            combined_data = pd.concat([existing_data, new_data])\n",
    "            combined_data.to_csv(csv_file_path, index=False)\n",
    "            print(f\"Data for {ticker} updated and appended.\")\n",
    "        else:\n",
    "            print(f\"No new data available for {ticker} in the specified date range.\")\n",
    "    else:\n",
    "        print(f\"CSV file '{csv_file_path}' does not exist.\")"
   ]
  },
  {
   "cell_type": "code",
   "execution_count": 4,
   "metadata": {},
   "outputs": [
    {
     "name": "stdout",
     "output_type": "stream",
     "text": [
      "[*********************100%***********************]  1 of 1 completed"
     ]
    },
    {
     "name": "stderr",
     "output_type": "stream",
     "text": [
      "\n",
      "1 Failed download:\n",
      "['BTC-USD']: IndexError('index 0 is out of bounds for axis 0 with size 0')\n"
     ]
    },
    {
     "name": "stdout",
     "output_type": "stream",
     "text": [
      "\n",
      "No new data available for BTC-USD in the specified date range.\n"
     ]
    }
   ],
   "source": [
    "ticker_to_update = 'BTC-USD'\n",
    "csv_file_path = 'BTC-USD_1d.csv'\n",
    "start_date = '2023-01-01'\n",
    "end_date = pd.Timestamp.today().strftime('%Y-%m-%d')\n",
    "\n",
    "update_data_and_append(ticker_to_update, csv_file_path, start_date, end_date)"
   ]
  },
  {
   "cell_type": "markdown",
   "metadata": {},
   "source": [
    "# Preprocess Data"
   ]
  },
  {
   "cell_type": "code",
   "execution_count": 12,
   "metadata": {},
   "outputs": [],
   "source": [
    "import os\n",
    "import pandas as pd\n",
    "\n",
    "def preprocess_and_save(data, ticker, output_folder=\"Regression_data\"):\n",
    "    # Preprocess your data here (example: separate date into year, month, day)\n",
    "    data['Date'] = pd.to_datetime(data['Date'])\n",
    "    data['Year'] = data['Date'].dt.year\n",
    "    data['Month'] = data['Date'].dt.month\n",
    "    data['Day'] = data['Date'].dt.day\n",
    "    \n",
    "    # Create the output folder if it doesn't exist\n",
    "    if not os.path.exists(output_folder):\n",
    "        os.makedirs(output_folder)\n",
    "    \n",
    "    # Save the preprocessed data in the output folder\n",
    "    output_file_path = os.path.join(output_folder, f\"prep_{ticker}_data.csv\")\n",
    "    data.to_csv(output_file_path, index=False)\n",
    "    print(f\"Preprocessed data for {ticker} saved in {output_file_path}\")\n",
    "\n",
    "\n"
   ]
  },
  {
   "cell_type": "code",
   "execution_count": 15,
   "metadata": {},
   "outputs": [
    {
     "name": "stdout",
     "output_type": "stream",
     "text": [
      "Preprocessed data for BTC-USD saved in Regression_Data\\prep_BTC-USD_data.csv\n"
     ]
    }
   ],
   "source": [
    "\n",
    "ticker = 'BTC-USD'\n",
    "data = pd.read_csv('LTC-USD_1d.csv')\n",
    "\n",
    "preprocess_and_save(data, ticker, \"Regression_Data\")"
   ]
  },
  {
   "cell_type": "markdown",
   "metadata": {},
   "source": [
    "# Print features"
   ]
  },
  {
   "cell_type": "code",
   "execution_count": 16,
   "metadata": {},
   "outputs": [
    {
     "name": "stdout",
     "output_type": "stream",
     "text": [
      "Features for BTC-USD data:\n",
      "['Date', 'Open', 'High', 'Low', 'Close', 'Adj Close', 'Volume', 'Year', 'Month', 'Day']\n"
     ]
    }
   ],
   "source": [
    "import pandas as pd\n",
    "\n",
    "def print_features(ticker, input_folder=\"Regression_data\"):\n",
    "    file_path = os.path.join(input_folder, f\"prep_{ticker}_data.csv\")\n",
    "    \n",
    "    if os.path.exists(file_path):\n",
    "        data = pd.read_csv(file_path)\n",
    "        print(f\"Features for {ticker} data:\")\n",
    "        print(data.columns.tolist())\n",
    "    else:\n",
    "        print(f\"Preprocessed data file for {ticker} not found.\")\n",
    "\n",
    "# Example usage\n",
    "ticker_to_print = 'BTC-USD'\n",
    "print_features(ticker_to_print)\n"
   ]
  }
 ],
 "metadata": {
  "kernelspec": {
   "display_name": "tf",
   "language": "python",
   "name": "python3"
  },
  "language_info": {
   "codemirror_mode": {
    "name": "ipython",
    "version": 3
   },
   "file_extension": ".py",
   "mimetype": "text/x-python",
   "name": "python",
   "nbconvert_exporter": "python",
   "pygments_lexer": "ipython3",
   "version": "3.9.17"
  },
  "orig_nbformat": 4
 },
 "nbformat": 4,
 "nbformat_minor": 2
}
