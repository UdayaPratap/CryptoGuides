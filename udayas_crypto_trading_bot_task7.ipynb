{
 "cells": [
  {
   "cell_type": "markdown",
   "metadata": {},
   "source": [
    "# CRYPTO TRADING SIGNAL BOT\n"
   ]
  },
  {
   "cell_type": "code",
   "execution_count": 15,
   "metadata": {},
   "outputs": [
    {
     "name": "stdout",
     "output_type": "stream",
     "text": [
      "Signal: SELL BTC-USD\n"
     ]
    },
    {
     "name": "stderr",
     "output_type": "stream",
     "text": [
      "c:\\Users\\ASUS\\anaconda3\\envs\\tf\\lib\\site-packages\\sklearn\\base.py:464: UserWarning: X does not have valid feature names, but LinearRegression was fitted with feature names\n",
      "  warnings.warn(\n"
     ]
    }
   ],
   "source": [
    "import pandas as pd\n",
    "import yfinance as yf\n",
    "import joblib\n",
    "\n",
    "regression_model=joblib.load('BTC-USD_regression_model.joblib')\n",
    "\n",
    "ticker = 'BTC-USD' \n",
    "\n",
    "# Get today's date for year, month, and day\n",
    "today = pd.Timestamp.today()\n",
    "year, month, day = today.year, today.month, today.day\n",
    "\n",
    "# Get user inputs for opening, high, low, and adjusted closing prices\n",
    "opening_price = float(input(\"Enter the opening price: \"))\n",
    "high_price = float(input(\"Enter the high price: \"))\n",
    "low_price = float(input(\"Enter the low price: \"))\n",
    "adj_closing_price = float(input(\"Enter the adjusted closing price: \"))\n",
    "vol=float(input(\"Enter volume: \"))\n",
    "\n",
    "\n",
    "user_data = {\n",
    "    'Open': opening_price,\n",
    "    'High': high_price,\n",
    "    'Low': low_price,\n",
    "    'Volume': vol,\n",
    "    'Adj Close': adj_closing_price,\n",
    "    'Year': year,\n",
    "    'Month': month,\n",
    "    'Day': day\n",
    "}\n",
    "\n",
    "\n",
    "def predict_price():\n",
    "\n",
    "    predicted_close = regression_model.predict([[user_data['Open'], user_data['High'], user_data['Low'],\n",
    "                                             user_data['Volume'], user_data['Year'], user_data['Month'],\n",
    "                                             user_data['Day']]])\n",
    "    \n",
    "    return predicted_close\n",
    "\n",
    "# Define trading strategy\n",
    "def trading_strategy(predicted_price, current_price):\n",
    "    threshold = 0.02  # Adjust this threshold as needed\n",
    "    if predicted_price > current_price * (1 + threshold):\n",
    "        return 'buy'\n",
    "    elif predicted_price < current_price * (1 - threshold):\n",
    "        return 'sell'\n",
    "    else:\n",
    "        return 'hold'\n",
    "\n",
    "# Main function to execute the trading bot\n",
    "def main():\n",
    "    current_price = user_data['Adj Close']  # Use the user-input adjusted closing price\n",
    "\n",
    "    predicted_closing_price = predict_price() \n",
    "\n",
    "    # Apply trading strategy\n",
    "    decision = trading_strategy(predicted_closing_price, current_price)\n",
    "\n",
    "    # Execute trading decision\n",
    "    if decision == 'buy':\n",
    "        print('Signal: BUY', ticker)\n",
    "    elif decision == 'sell':\n",
    "        print('Signal: SELL', ticker)\n",
    "\n",
    "if __name__ == '__main__':\n",
    "    main()\n"
   ]
  }
 ],
 "metadata": {
  "kernelspec": {
   "display_name": "tf",
   "language": "python",
   "name": "python3"
  },
  "language_info": {
   "codemirror_mode": {
    "name": "ipython",
    "version": 3
   },
   "file_extension": ".py",
   "mimetype": "text/x-python",
   "name": "python",
   "nbconvert_exporter": "python",
   "pygments_lexer": "ipython3",
   "version": "3.9.17"
  },
  "orig_nbformat": 4
 },
 "nbformat": 4,
 "nbformat_minor": 2
}
