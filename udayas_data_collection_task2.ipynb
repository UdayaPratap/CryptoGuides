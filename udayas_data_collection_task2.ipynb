{
 "cells": [
  {
   "cell_type": "markdown",
   "metadata": {},
   "source": [
    "# Getting data\n",
    "Below code uses yfinance to get data for all three cryptos(BTC, ETH, LTC)"
   ]
  },
  {
   "cell_type": "code",
   "execution_count": 1,
   "metadata": {},
   "outputs": [
    {
     "name": "stdout",
     "output_type": "stream",
     "text": [
      "[*********************100%***********************]  1 of 1 completed\n",
      "Data for BTC-USD (1d) saved to BTC-USD_1d.csv\n",
      "[*********************100%***********************]  1 of 1 completed\n",
      "Data for BTC-USD (1wk) saved to BTC-USD_1wk.csv\n",
      "[*********************100%***********************]  1 of 1 completed\n",
      "Data for BTC-USD (1h) saved to BTC-USD_1h.csv\n",
      "[*********************100%***********************]  1 of 1 completed\n",
      "Data for ETH-USD (1d) saved to ETH-USD_1d.csv\n",
      "[*********************100%***********************]  1 of 1 completed\n",
      "Data for ETH-USD (1wk) saved to ETH-USD_1wk.csv\n",
      "[*********************100%***********************]  1 of 1 completed\n",
      "Data for ETH-USD (1h) saved to ETH-USD_1h.csv\n",
      "[*********************100%***********************]  1 of 1 completed\n",
      "Data for LTC-USD (1d) saved to LTC-USD_1d.csv\n",
      "[*********************100%***********************]  1 of 1 completed\n",
      "Data for LTC-USD (1wk) saved to LTC-USD_1wk.csv\n",
      "[*********************100%***********************]  1 of 1 completed\n",
      "Data for LTC-USD (1h) saved to LTC-USD_1h.csv\n"
     ]
    }
   ],
   "source": [
    "import yfinance as yf\n",
    "import pandas as pd\n",
    "\n",
    "# Define the ticker symbols for Bitcoin, Ethereum, and Litecoin\n",
    "tickers = ['BTC-USD', 'ETH-USD', 'LTC-USD']\n",
    "\n",
    "# Define the timeframes you want: daily, weekly, and hourly\n",
    "timeframes = ['1d', '1wk', '1h']\n",
    "\n",
    "# Loop through tickers and timeframes to fetch and store data\n",
    "for ticker in tickers:\n",
    "    for timeframe in timeframes:\n",
    "        data = yf.download(ticker, period=\"1y\", interval=timeframe)\n",
    "        \n",
    "        # Define a filename based on the ticker and timeframe\n",
    "        filename = f\"{ticker}_{timeframe}.csv\"\n",
    "        \n",
    "        # Save the data to a CSV file\n",
    "        data.to_csv(filename)\n",
    "\n",
    "        print(f\"Data for {ticker} ({timeframe}) saved to {filename}\")\n"
   ]
  },
  {
   "cell_type": "markdown",
   "metadata": {},
   "source": [
    "# Printing the feautures"
   ]
  },
  {
   "cell_type": "code",
   "execution_count": 2,
   "metadata": {},
   "outputs": [
    {
     "name": "stdout",
     "output_type": "stream",
     "text": [
      "Features for BTC-USD (1d):\n",
      "['Date', 'Open', 'High', 'Low', 'Close', 'Adj Close', 'Volume']\n",
      "\n",
      "\n",
      "Features for BTC-USD (1wk):\n",
      "['Date', 'Open', 'High', 'Low', 'Close', 'Adj Close', 'Volume']\n",
      "\n",
      "\n",
      "Features for BTC-USD (1h):\n",
      "['Datetime', 'Open', 'High', 'Low', 'Close', 'Adj Close', 'Volume']\n",
      "\n",
      "\n",
      "Features for ETH-USD (1d):\n",
      "['Date', 'Open', 'High', 'Low', 'Close', 'Adj Close', 'Volume']\n",
      "\n",
      "\n",
      "Features for ETH-USD (1wk):\n",
      "['Date', 'Open', 'High', 'Low', 'Close', 'Adj Close', 'Volume']\n",
      "\n",
      "\n",
      "Features for ETH-USD (1h):\n",
      "['Datetime', 'Open', 'High', 'Low', 'Close', 'Adj Close', 'Volume']\n",
      "\n",
      "\n",
      "Features for LTC-USD (1d):\n",
      "['Date', 'Open', 'High', 'Low', 'Close', 'Adj Close', 'Volume']\n",
      "\n",
      "\n",
      "Features for LTC-USD (1wk):\n",
      "['Date', 'Open', 'High', 'Low', 'Close', 'Adj Close', 'Volume']\n",
      "\n",
      "\n",
      "Features for LTC-USD (1h):\n",
      "['Datetime', 'Open', 'High', 'Low', 'Close', 'Adj Close', 'Volume']\n",
      "\n",
      "\n"
     ]
    }
   ],
   "source": [
    "import pandas as pd\n",
    "\n",
    "# Define the ticker symbols for Bitcoin, Ethereum, and Litecoin\n",
    "tickers = ['BTC-USD', 'ETH-USD', 'LTC-USD']\n",
    "\n",
    "# Define the timeframes you want: daily, weekly, and hourly\n",
    "timeframes = ['1d', '1wk', '1h']\n",
    "\n",
    "# Loop through tickers and timeframes to load and print features\n",
    "for ticker in tickers:\n",
    "    for timeframe in timeframes:\n",
    "        # Define the filename based on the ticker and timeframe\n",
    "        filename = f\"{ticker}_{timeframe}.csv\"\n",
    "        \n",
    "        # Load the CSV file into a DataFrame\n",
    "        data = pd.read_csv(filename)\n",
    "        \n",
    "        # Print the features (columns) in the dataset\n",
    "        print(f\"Features for {ticker} ({timeframe}):\")\n",
    "        print(data.columns.tolist())\n",
    "        print(\"\\n\")\n"
   ]
  },
  {
   "cell_type": "markdown",
   "metadata": {},
   "source": [
    "#  Feature selection & deletion\n",
    "After analysis of the above features for the crypto datasets, it is found that:\n",
    "1. Date/Datetime are important for time series analysis and prediction, especially for cryptocurrency price prediction. Timestamps help order the data points and capture temporal relationships, which can be crucial for understanding market trends and making predictions.\n",
    "2. Open, High, Low & Close all represent the price of the currency in various stages of time & all of these are helpful in prediction, hence KEEP these columns,\n",
    "3, Volume represents the amount of trades, this reprsents interest in market trading and may represent shift in market prices."
   ]
  },
  {
   "cell_type": "markdown",
   "metadata": {},
   "source": [
    "# Timestamp Data\n",
    "Convert it into numeric features like day of the week, hour of the day, etc., which could capture temporal patterns. This will help in training our model."
   ]
  },
  {
   "cell_type": "markdown",
   "metadata": {},
   "source": [
    "# Missing Values"
   ]
  },
  {
   "cell_type": "code",
   "execution_count": 3,
   "metadata": {},
   "outputs": [
    {
     "name": "stdout",
     "output_type": "stream",
     "text": [
      "BTC-USD (1d):\n",
      "         Date          Open          High           Low         Close  \\\n",
      "0  2022-08-09  23811.484375  23898.615234  22982.000000  23164.318359   \n",
      "1  2022-08-10  23162.898438  24127.414062  22771.519531  23947.642578   \n",
      "2  2022-08-11  23948.345703  24822.628906  23900.996094  23957.529297   \n",
      "3  2022-08-12  23957.203125  24412.566406  23657.265625  24402.818359   \n",
      "4  2022-08-13  24402.187500  24860.050781  24346.115234  24424.068359   \n",
      "\n",
      "      Adj Close       Volume  \n",
      "0  23164.318359  23555719219  \n",
      "1  23947.642578  32837431722  \n",
      "2  23957.529297  37127036580  \n",
      "3  24402.818359  27265804688  \n",
      "4  24424.068359  22987346289  \n",
      "\n",
      "\n",
      "BTC-USD (1wk):\n",
      "         Date          Open          High           Low         Close  \\\n",
      "0  2022-08-08  23811.484375  24974.914062  22771.519531  24319.333984   \n",
      "1  2022-08-15  24318.316406  25135.589844  20856.730469  21534.121094   \n",
      "2  2022-08-22  21531.462891  21804.908203  19616.814453  19616.814453   \n",
      "3  2022-08-29  19615.154297  20542.644531  19600.785156  19986.712891   \n",
      "4  2022-09-05  19988.789062  21770.552734  18644.466797  21769.255859   \n",
      "\n",
      "      Adj Close        Volume  \n",
      "0  24319.333984  166767472053  \n",
      "1  21534.121094  208764012537  \n",
      "2  19616.814453  223346042309  \n",
      "3  19986.712891  208511390280  \n",
      "4  21769.255859  259528892947  \n",
      "\n",
      "\n",
      "BTC-USD (1h):\n",
      "                    Datetime          Open          High           Low  \\\n",
      "0  2022-08-09 04:00:00+00:00  23835.503906  23883.876953  23818.265625   \n",
      "1  2022-08-09 05:00:00+00:00  23884.894531  23898.234375  23871.265625   \n",
      "2  2022-08-09 06:00:00+00:00  23878.937500  23878.937500  23780.849609   \n",
      "3  2022-08-09 07:00:00+00:00  23844.099609  23889.449219  23835.035156   \n",
      "4  2022-08-09 08:00:00+00:00  23850.982422  23869.658203  23804.134766   \n",
      "\n",
      "          Close     Adj Close     Volume  \n",
      "0  23883.876953  23883.876953          0  \n",
      "1  23888.201172  23888.201172  249526272  \n",
      "2  23830.296875  23830.296875          0  \n",
      "3  23840.843750  23840.843750          0  \n",
      "4  23804.134766  23804.134766          0  \n"
     ]
    }
   ],
   "source": [
    "import pandas as pd\n",
    "\n",
    "# Load and print first five rows for BTC-USD (1d)\n",
    "btc_1d = pd.read_csv('BTC-USD_1d.csv')\n",
    "print(\"BTC-USD (1d):\")\n",
    "print(btc_1d.head())\n",
    "print(\"\\n\")\n",
    "\n",
    "# Load and print first five rows for BTC-USD (1wk)\n",
    "btc_1wk = pd.read_csv('BTC-USD_1wk.csv')\n",
    "print(\"BTC-USD (1wk):\")\n",
    "print(btc_1wk.head())\n",
    "print(\"\\n\")\n",
    "\n",
    "# Load and print first five rows for BTC-USD (1h)\n",
    "btc_1h = pd.read_csv('BTC-USD_1h.csv')\n",
    "print(\"BTC-USD (1h):\")\n",
    "print(btc_1h.head())\n"
   ]
  },
  {
   "cell_type": "markdown",
   "metadata": {},
   "source": []
  },
  {
   "cell_type": "markdown",
   "metadata": {},
   "source": [
    "As shown by above data, no missing values are found."
   ]
  },
  {
   "cell_type": "markdown",
   "metadata": {},
   "source": []
  }
 ],
 "metadata": {
  "kernelspec": {
   "display_name": "tf",
   "language": "python",
   "name": "python3"
  },
  "language_info": {
   "codemirror_mode": {
    "name": "ipython",
    "version": 3
   },
   "file_extension": ".py",
   "mimetype": "text/x-python",
   "name": "python",
   "nbconvert_exporter": "python",
   "pygments_lexer": "ipython3",
   "version": "3.9.17"
  },
  "orig_nbformat": 4
 },
 "nbformat": 4,
 "nbformat_minor": 2
}
