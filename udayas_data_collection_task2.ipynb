{
 "cells": [
  {
   "cell_type": "markdown",
   "metadata": {},
   "source": [
    "# Getting data\n",
    "Below code uses yfinance to get data for all three cryptos(BTC, ETH, LTC)"
   ]
  },
  {
   "cell_type": "code",
   "execution_count": 2,
   "metadata": {},
   "outputs": [
    {
     "name": "stdout",
     "output_type": "stream",
     "text": [
      "[*********************100%***********************]  1 of 1 completed\n",
      "Data for BTC-USD (1d) saved to BTC-USD_1d.csv\n",
      "[*********************100%***********************]  1 of 1 completed\n",
      "Data for ETH-USD (1d) saved to ETH-USD_1d.csv\n",
      "[*********************100%***********************]  1 of 1 completed\n",
      "Data for LTC-USD (1d) saved to LTC-USD_1d.csv\n"
     ]
    }
   ],
   "source": [
    "import yfinance as yf\n",
    "import pandas as pd\n",
    "\n",
    "# Define the ticker symbols for Bitcoin, Ethereum, and Litecoin\n",
    "tickers = ['BTC-USD', 'ETH-USD', 'LTC-USD']\n",
    "\n",
    "# Define the timeframes you want: daily, weekly, and hourly\n",
    "timeframes = ['1d']\n",
    "\n",
    "# Loop through tickers and timeframes to fetch and store data\n",
    "for ticker in tickers:\n",
    "    for timeframe in timeframes:\n",
    "        data = yf.download(ticker, period=\"1y\", interval=timeframe)\n",
    "        \n",
    "        # Define a filename based on the ticker and timeframe\n",
    "        filename = f\"{ticker}_{timeframe}.csv\"\n",
    "        \n",
    "        # Save the data to a CSV file\n",
    "        data.to_csv(filename)\n",
    "\n",
    "        print(f\"Data for {ticker} ({timeframe}) saved to {filename}\")\n"
   ]
  },
  {
   "cell_type": "markdown",
   "metadata": {},
   "source": [
    "# Printing the feautures"
   ]
  },
  {
   "cell_type": "code",
   "execution_count": 4,
   "metadata": {},
   "outputs": [
    {
     "name": "stdout",
     "output_type": "stream",
     "text": [
      "Features for BTC-USD (1d):\n",
      "['Date', 'Open', 'High', 'Low', 'Close', 'Adj Close', 'Volume']\n",
      "\n",
      "\n",
      "Features for ETH-USD (1d):\n",
      "['Date', 'Open', 'High', 'Low', 'Close', 'Adj Close', 'Volume']\n",
      "\n",
      "\n",
      "Features for LTC-USD (1d):\n",
      "['Date', 'Open', 'High', 'Low', 'Close', 'Adj Close', 'Volume']\n",
      "\n",
      "\n"
     ]
    }
   ],
   "source": [
    "import pandas as pd\n",
    "\n",
    "# Define the ticker symbols for Bitcoin, Ethereum, and Litecoin\n",
    "tickers = ['BTC-USD', 'ETH-USD', 'LTC-USD']\n",
    "\n",
    "# Define the timeframes you want: daily, weekly, and hourly\n",
    "timeframes = ['1d']\n",
    "\n",
    "# Loop through tickers and timeframes to load and print features\n",
    "for ticker in tickers:\n",
    "    for timeframe in timeframes:\n",
    "        # Define the filename based on the ticker and timeframe\n",
    "        filename = f\"{ticker}_{timeframe}.csv\"\n",
    "        \n",
    "        # Load the CSV file into a DataFrame\n",
    "        data = pd.read_csv(filename)\n",
    "        \n",
    "        # Print the features (columns) in the dataset\n",
    "        print(f\"Features for {ticker} ({timeframe}):\")\n",
    "        print(data.columns.tolist())\n",
    "        print(\"\\n\")\n"
   ]
  },
  {
   "cell_type": "markdown",
   "metadata": {},
   "source": [
    "#  Feature selection & deletion\n",
    "After analysis of the above features for the crypto datasets, it is found that:\n",
    "1. Date/Datetime are important for time series analysis and prediction, especially for cryptocurrency price prediction. Timestamps help order the data points and capture temporal relationships, which can be crucial for understanding market trends and making predictions.\n",
    "2. Open, High, Low & Close all represent the price of the currency in various stages of time & all of these are helpful in prediction, hence KEEP these columns,\n",
    "3, Volume represents the amount of trades, this reprsents interest in market trading and may represent shift in market prices."
   ]
  },
  {
   "cell_type": "markdown",
   "metadata": {},
   "source": [
    "# Timestamp Data\n",
    "Convert it into numeric features like day of the week, hour of the day, etc., which could capture temporal patterns. This will help in training our model."
   ]
  },
  {
   "cell_type": "markdown",
   "metadata": {},
   "source": [
    "# Missing Values"
   ]
  },
  {
   "cell_type": "code",
   "execution_count": 6,
   "metadata": {},
   "outputs": [
    {
     "name": "stdout",
     "output_type": "stream",
     "text": [
      "BTC-USD (1d):\n",
      "         Date          Open          High           Low         Close  \\\n",
      "0  2022-08-18  23341.039062  23563.832031  23177.601562  23212.738281   \n",
      "1  2022-08-19  23213.312500  23213.312500  20868.847656  20877.552734   \n",
      "2  2022-08-20  20872.841797  21350.806641  20856.730469  21166.060547   \n",
      "3  2022-08-21  21160.392578  21668.845703  21103.197266  21534.121094   \n",
      "4  2022-08-22  21531.462891  21531.462891  20939.183594  21398.908203   \n",
      "\n",
      "      Adj Close       Volume  \n",
      "0  23212.738281  23747613147  \n",
      "1  20877.552734  40509610260  \n",
      "2  21166.060547  27595671000  \n",
      "3  21534.121094  23102307723  \n",
      "4  21398.908203  31666498758  \n",
      "\n",
      "\n"
     ]
    }
   ],
   "source": [
    "import pandas as pd\n",
    "\n",
    "# Load and print first five rows for BTC-USD (1d)\n",
    "btc_1d = pd.read_csv('BTC-USD_1d.csv')\n",
    "print(\"BTC-USD (1d):\")\n",
    "print(btc_1d.head())\n",
    "print(\"\\n\")\n"
   ]
  },
  {
   "cell_type": "markdown",
   "metadata": {},
   "source": []
  },
  {
   "cell_type": "markdown",
   "metadata": {},
   "source": [
    "As shown by above data, no missing values are found."
   ]
  },
  {
   "cell_type": "markdown",
   "metadata": {},
   "source": []
  }
 ],
 "metadata": {
  "kernelspec": {
   "display_name": "tf",
   "language": "python",
   "name": "python3"
  },
  "language_info": {
   "codemirror_mode": {
    "name": "ipython",
    "version": 3
   },
   "file_extension": ".py",
   "mimetype": "text/x-python",
   "name": "python",
   "nbconvert_exporter": "python",
   "pygments_lexer": "ipython3",
   "version": "3.9.17"
  },
  "orig_nbformat": 4
 },
 "nbformat": 4,
 "nbformat_minor": 2
}
